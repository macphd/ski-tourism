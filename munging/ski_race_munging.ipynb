{
 "cells": [
  {
   "cell_type": "code",
   "execution_count": 25,
   "metadata": {},
   "outputs": [],
   "source": [
    "import pandas as pd\n",
    "import numpy as np\n",
    "import datetime as dt\n",
    "import re"
   ]
  },
  {
   "cell_type": "code",
   "execution_count": 27,
   "metadata": {},
   "outputs": [
    {
     "name": "stdout",
     "output_type": "stream",
     "text": [
      "614292\n"
     ]
    },
    {
     "data": {
      "text/html": [
       "<div>\n",
       "<style scoped>\n",
       "    .dataframe tbody tr th:only-of-type {\n",
       "        vertical-align: middle;\n",
       "    }\n",
       "\n",
       "    .dataframe tbody tr th {\n",
       "        vertical-align: top;\n",
       "    }\n",
       "\n",
       "    .dataframe thead th {\n",
       "        text-align: right;\n",
       "    }\n",
       "</style>\n",
       "<table border=\"1\" class=\"dataframe\">\n",
       "  <thead>\n",
       "    <tr style=\"text-align: right;\">\n",
       "      <th></th>\n",
       "      <th>race_description</th>\n",
       "      <th>race_name</th>\n",
       "      <th>racer_nationality</th>\n",
       "      <th>racer_time</th>\n",
       "    </tr>\n",
       "  </thead>\n",
       "  <tbody>\n",
       "    <tr>\n",
       "      <th>0</th>\n",
       "      <td>12.08.2017 48 km CT</td>\n",
       "      <td>Ushuaia Loppet Main</td>\n",
       "      <td>ARG</td>\n",
       "      <td>02:16:34</td>\n",
       "    </tr>\n",
       "    <tr>\n",
       "      <th>1</th>\n",
       "      <td>12.08.2017 48 km CT</td>\n",
       "      <td>Ushuaia Loppet Main</td>\n",
       "      <td>ARG</td>\n",
       "      <td>02:35:10</td>\n",
       "    </tr>\n",
       "    <tr>\n",
       "      <th>2</th>\n",
       "      <td>12.08.2017 48 km CT</td>\n",
       "      <td>Ushuaia Loppet Main</td>\n",
       "      <td>POL</td>\n",
       "      <td>02:48:40</td>\n",
       "    </tr>\n",
       "    <tr>\n",
       "      <th>3</th>\n",
       "      <td>12.08.2017 48 km CT</td>\n",
       "      <td>Ushuaia Loppet Main</td>\n",
       "      <td>ARG</td>\n",
       "      <td>02:49:54</td>\n",
       "    </tr>\n",
       "    <tr>\n",
       "      <th>4</th>\n",
       "      <td>12.08.2017 48 km CT</td>\n",
       "      <td>Ushuaia Loppet Main</td>\n",
       "      <td>ARG</td>\n",
       "      <td>02:51:14</td>\n",
       "    </tr>\n",
       "  </tbody>\n",
       "</table>\n",
       "</div>"
      ],
      "text/plain": [
       "      race_description            race_name racer_nationality racer_time\n",
       "0  12.08.2017 48 km CT  Ushuaia Loppet Main               ARG   02:16:34\n",
       "1  12.08.2017 48 km CT  Ushuaia Loppet Main               ARG   02:35:10\n",
       "2  12.08.2017 48 km CT  Ushuaia Loppet Main               POL   02:48:40\n",
       "3  12.08.2017 48 km CT  Ushuaia Loppet Main               ARG   02:49:54\n",
       "4  12.08.2017 48 km CT  Ushuaia Loppet Main               ARG   02:51:14"
      ]
     },
     "execution_count": 27,
     "metadata": {},
     "output_type": "execute_result"
    }
   ],
   "source": [
    "race_df = pd.read_csv(\"../scraping/fis_scrape/worldloppet_races.csv\")\n",
    "\n",
    "#how many racers\n",
    "print(len(race_df))\n",
    "\n",
    "#define index for get function\n",
    "#print(race_df.race_description.str.split()[1])\n",
    "\n",
    "new_race_df = race_df.copy()\n",
    "new_race_df.head(5)\n",
    "\n",
    "#break down formatting one at a time to troubleshoot any new errors"
   ]
  },
  {
   "cell_type": "code",
   "execution_count": 28,
   "metadata": {},
   "outputs": [],
   "source": [
    "#race date NB *very* long step\n",
    "new_race_df['date'] = pd.to_datetime(race_df.race_description.str.split().str.get(0).str.replace(\".\", \"-\"))"
   ]
  },
  {
   "cell_type": "code",
   "execution_count": 30,
   "metadata": {},
   "outputs": [],
   "source": [
    "new_race_df['year'] = new_race_df.date.dt.year"
   ]
  },
  {
   "cell_type": "code",
   "execution_count": 31,
   "metadata": {},
   "outputs": [],
   "source": [
    "new_race_df['month'] = new_race_df.date.dt.month"
   ]
  },
  {
   "cell_type": "code",
   "execution_count": 32,
   "metadata": {},
   "outputs": [],
   "source": [
    "new_race_df['week'] = new_race_df.date.dt.weekofyear"
   ]
  },
  {
   "cell_type": "code",
   "execution_count": 33,
   "metadata": {},
   "outputs": [
    {
     "name": "stdout",
     "output_type": "stream",
     "text": [
      "['Ushuaia Loppet Main' 'Kangaroo Hoppet Main' 'Merino Muster Main'\n",
      " 'Vasaloppet China Main' 'Dolomitenlauf CL' 'Dolomitenlauf Main'\n",
      " 'Marcialonga Main' 'König Ludwig Lauf FT' 'König Ludwig Lauf Main'\n",
      " 'Sapporo Int. Ski Marathon Main' 'La Transjurassienne Classic'\n",
      " 'La Transjurassienne Marathon' 'La Transjurassienne Main'\n",
      " 'Tartu Maraton Open Track' 'Gatineau Loppet CL' 'Jizerská Padesatka Main'\n",
      " 'Gatineau Loppet Main' 'Tartu Maraton Main' 'Finlandia-hiihto Main'\n",
      " 'American Birkebeiner Birkie FT' 'American Birkebeiner Birkie CL'\n",
      " 'Finlandia-hiihto 100' 'Finlandia-hiihto ' 'Vasaloppet Oppet Spar Sun'\n",
      " 'Vasaloppet Oppet Spar Mon' 'Bieg Piastow Main'\n",
      " 'Demino Ski Marathon Main' 'Vasaloppet Main' 'Engadin Skimarathon Main'\n",
      " 'Birkebeinerrennet FredagsBirken CT/FT' 'Birkebeinerrennet Main'\n",
      " 'Ushuaia Loppet Promo' 'Ushuaia Loppet Marchablanca'\n",
      " 'Kangaroo Hoppet Australian Birkebeiner' 'Merino Muster Snow Rake'\n",
      " 'Vasaloppet China Short' 'Dolomitenlauf Short CL'\n",
      " 'Dolomitenlauf Lienz Lauf' 'Marcialonga Lavazeloppet' 'Marcialonga Light'\n",
      " 'König Ludwig Lauf Short FT' 'König Ludwig Lauf Short CL'\n",
      " 'Sapporo Int. Ski Marathon Short' 'La Transjurassienne Short CL'\n",
      " 'La Transjurassienne Short FT' 'Jizerská Padesatka Bedrichov'\n",
      " 'Jizerská Padesatka Short' 'Gatineau Loppet Short CL'\n",
      " 'Gatineau Loppet Short FT' 'Tartu Maraton Short'\n",
      " 'American Birkebeiner Kortelopet CL' 'American Birkebeiner Kortelopet FT'\n",
      " 'Vasaloppet Kortvasan' 'Vasaloppet TjejVasan' 'Finlandia-hiihto Short CL'\n",
      " 'Finlandia-hiihto Short FT' 'Vasaloppet HalvVasan'\n",
      " 'Bieg Piastow Short FT' 'Engadin Skimarathon Women’s Race'\n",
      " 'Bieg Piastow Short CT' 'Demino Ski Marathon Short'\n",
      " 'Engadin Skimarathon Night Race' 'Birkebeinerrennet Inga Lami'\n",
      " 'Engadin Skimarathon Short' 'Birkebeinerrennet HalvBirken'\n",
      " 'Dolomitenlauf Classic' 'American Birkebeiner Birkie Tour'\n",
      " 'Finlandia-hiihto 100 C' 'König Ludwig Lauf Main F'\n",
      " 'Finlandia-hiihto Main C' 'Finlandia-hiihto Main F'\n",
      " \"La Transjurassienne Transju'Classic\" 'Gatineau Loppet Main C'\n",
      " 'Gatineau Loppet Main F' 'Vasaloppet Open Track Sun'\n",
      " 'Vasaloppet Open Track Mon' 'Vasaloppet Nattvasan'\n",
      " 'Birkebeinerrennet FredagsBirken CT' 'Birkebeinerrennet FredagsBirken FT'\n",
      " 'Fossavatnsgangan Main' 'Vasaloppet China Half Vasa'\n",
      " 'Dolomitenlauf Short C' 'König Ludwig Lauf Short F'\n",
      " 'Finlandia-hiihto Short C' 'König Ludwig Lauf Short C'\n",
      " 'Finlandia-hiihto Short F' 'La Transjurassienne La Trans 25 C'\n",
      " 'La Transjurassienne La Trans 25 F' 'Jizerská Padesatka Bedrichovska'\n",
      " 'Jizerská Padesatka Short C' 'Gatineau Loppet Short C'\n",
      " 'Tartu Maraton Open Short' 'Gatineau Loppet Short F'\n",
      " 'Vasaloppet Halvvasan' 'Bieg Piastow Short F'\n",
      " 'Engadin Skimarathon Frauenlauf' 'Bieg Piastow Short C'\n",
      " 'Demino Ski Marathon Short C' 'Birkebeinerrennet Ingalami'\n",
      " 'Engadin Skimarathon Halbmarathon' 'Fossavatnsgangan Short F'\n",
      " 'Fossavatnsgangan Short C' 'Ushuaia Loppet ' 'Vasaloppet China main'\n",
      " 'Jizerská Padesatka Main 50km' 'American Birkebeiner Main'\n",
      " 'American Birkebeiner Classic' 'Gatineau Loppet CT' 'Finlandia-hiihto FT'\n",
      " 'Gatineau Loppet Main FT' 'Vasaloppet Oppet Spar sun'\n",
      " 'Vasaloppet Oppet Spar mon' 'Birkebeinerrennet Fredags Birken'\n",
      " 'Ushuaia Loppet Ushuaialoppet 21 km' 'Jizerská Padesatka Bedrichovska 30'\n",
      " 'Jizerská Padesatka Jizerska25' 'Dolomitenlauf classic'\n",
      " 'American Birkebeiner Korteloppet ' 'Finlandia-hiihto Short'\n",
      " 'Bieg Piastow Short' 'Engadin Skimarathon Halb Marathon'\n",
      " 'Birkebeinerrennet Halv Birken' 'Fossavatnsgangan Short'\n",
      " 'Ushuaia Loppet Main Race' 'Merino Muster Main Race' 'Kangaroo Hoppet '\n",
      " 'Vasaloppet China ' 'Jizerská Padesatka ' 'Dolomitenlauf ' 'Marcialonga '\n",
      " 'König Ludwig Lauf ' 'Sapporo Int. Ski Marathon '\n",
      " \"La Transjurassienne La Transju'Classic\" 'Gatineau Loppet '\n",
      " 'Tartu Maraton ' 'American Birkebeiner ' 'Bieg Piastow '\n",
      " 'Vasaloppet Öppet Spar' 'Engadin Skimarathon ' 'Vasaloppet '\n",
      " 'Demino Ski Marathon ' 'Birkebeinerrennet FredagsBirken'\n",
      " 'Birkebeinerrennet ' 'Fossavatnsgangan ' 'Ushuaia Loppet Short'\n",
      " 'Vasaloppet China China Short' 'Jizerská Padesatka Jizerska25 '\n",
      " 'Tartu Maraton Open Track ' 'American Birkebeiner Korteloppet Classic'\n",
      " 'American Birkebeiner Korteloppet' 'Vasaloppet KortVasan'\n",
      " 'Vasaloppet TjeiVasan' 'La Transjurassienne ' 'Vasaloppet Oppet Spar'\n",
      " 'Bieg Piastow 50km CT Main race' 'Kangaroo Hoppet Austr. Birkeb'\n",
      " 'La Transjurassienne Transju' 'Vasaloppet TjejVasan leisure'\n",
      " 'Vasaloppet TjejVasan competition' 'Bieg Piastow 26km CT '\n",
      " 'Dolomitenlauf Classic Race' 'La Transjurassienne La Transjurassienne 50'\n",
      " 'La Transjurassienne La Transjurassienne 57'\n",
      " 'La Transjurassienne La Transjurassienne 76' 'Vasaloppet Öppet Spår'\n",
      " 'Kangaroo Hoppet Austr. Birke' 'Jizerská Padesatka BEDRICHOVSKA 30'\n",
      " 'Jizerská Padesatka JIZERSKA 25' 'Marcialonga Marcialonga LIGHT'\n",
      " 'La Transjurassienne La Transju 25 km' 'Engadin Skimarathon Frauenlauf *'\n",
      " 'Birkebeinerrennet Halvbirken' 'Engadin Skimarathon Halbmarathon ']\n"
     ]
    }
   ],
   "source": [
    "print(race_df.race_name.unique())\n",
    "\n",
    "# first, setup a host country tag (good for the compare to racer_nationality rationale)\n",
    "# so, idea being that if I can breakdown by host country... should be able to get most popular races(by country)\n",
    "\n",
    "# then, define the splitting distance for short/long races. (optional, really)\n",
    "# will have to condense the list of 173 unique race_names (fortunately plenty of redundancy\n",
    "# should have to setup 20 ifelses like (if contains china == CHN or america == USA)"
   ]
  },
  {
   "cell_type": "code",
   "execution_count": 34,
   "metadata": {},
   "outputs": [],
   "source": [
    "# setup a function which generates a 'host country' based on 'race_name' string\n",
    "\n",
    "def host_country_gen(r):\n",
    "    if 'Ushuaia' in r:\n",
    "        return \"ARG\"\n",
    "    elif 'American' in r:\n",
    "            return \"USA\"\n",
    "    elif 'Kangaroo' in r:\n",
    "            return \"AUS\"\n",
    "    elif 'Bieg' in r:\n",
    "            return \"POL\"\n",
    "    elif 'Transjurassienne' in r:\n",
    "            return \"FRA\"\n",
    "    elif 'Dolomitenlauf' in r:\n",
    "            return \"AUT\"\n",
    "    elif 'Marcialonga' in r:\n",
    "            return \"ITA\"\n",
    "    elif 'Engadin' in r:\n",
    "            return \"SUI\"\n",
    "    elif 'Padesatka' in r:\n",
    "            return \"CZE\"\n",
    "    elif 'Ludwig' in r:\n",
    "            return \"GER\"\n",
    "    elif 'Tartu' in r:\n",
    "            return \"EST\"\n",
    "    elif 'Finland' in r:\n",
    "            return \"FIN\"\n",
    "    elif 'China' in r:\n",
    "            return \"CHN\"\n",
    "    elif 'Sapporo' in r:\n",
    "            return \"JPN\"\n",
    "    elif 'Gatineau' in r:\n",
    "            return \"CAN\"\n",
    "    elif 'Birkebeinerrennet' in r:\n",
    "            return \"NOR\"\n",
    "    elif 'Fossavatnsgangan' in r:\n",
    "            return \"ISL\"\n",
    "    elif 'Merino' in r:\n",
    "            return \"NZL\"\n",
    "    elif 'Demino' in r:\n",
    "            return \"RUS\"\n",
    "    elif 'Vasaloppet' in r:\n",
    "            return \"SWE\"\n",
    "    else:\n",
    "        return \"none\""
   ]
  },
  {
   "cell_type": "code",
   "execution_count": 35,
   "metadata": {},
   "outputs": [
    {
     "name": "stdout",
     "output_type": "stream",
     "text": [
      "['ARG' 'AUS' 'NZL' 'CHN' 'AUT' 'ITA' 'GER' 'JPN' 'FRA' 'EST' 'CAN' 'CZE'\n",
      " 'FIN' 'USA' 'SWE' 'POL' 'RUS' 'SUI' 'NOR' 'ISL']\n"
     ]
    },
    {
     "data": {
      "text/plain": [
       "20"
      ]
     },
     "execution_count": 35,
     "metadata": {},
     "output_type": "execute_result"
    }
   ],
   "source": [
    "new_race_df['host_country'] = race_df.race_name.apply(host_country_gen)\n",
    "print(new_race_df.host_country.unique())\n",
    "len(new_race_df.host_country.unique())\n",
    "# all countries accounted for !!  \n",
    "# confirm no misattributes but with vasaloppet last should be OK"
   ]
  },
  {
   "cell_type": "code",
   "execution_count": 43,
   "metadata": {},
   "outputs": [
    {
     "data": {
      "text/plain": [
       "host_country\n",
       "AUT    0.800848\n",
       "NZL    0.671164\n",
       "ITA    0.661302\n",
       "ISL    0.596610\n",
       "GER    0.569041\n",
       "CHN    0.495010\n",
       "ARG    0.329457\n",
       "SUI    0.286586\n",
       "CAN    0.247219\n",
       "POL    0.245444\n",
       "FIN    0.237778\n",
       "CZE    0.223501\n",
       "AUS    0.211349\n",
       "FRA    0.209550\n",
       "EST    0.176132\n",
       "SWE    0.119791\n",
       "NOR    0.114620\n",
       "RUS    0.086763\n",
       "JPN    0.075348\n",
       "USA    0.029520\n",
       "Name: tourist, dtype: float64"
      ]
     },
     "execution_count": 43,
     "metadata": {},
     "output_type": "execute_result"
    }
   ],
   "source": [
    "# setup quick numerical boolean to query tourist %'s\n",
    "# 0 = racer is native; 1 = racer is a visitor (tourist)\n",
    "new_race_df['tourist'] = np.where(new_race_df.racer_nationality != new_race_df.host_country, 1, 0)\n",
    "#fastcheck\n",
    "new_race_df.groupby('host_country').mean()['tourist'].sort_values(ascending = False)"
   ]
  },
  {
   "cell_type": "code",
   "execution_count": 44,
   "metadata": {},
   "outputs": [],
   "source": [
    "#race distance\n",
    "new_race_df['distance'] = pd.to_numeric(race_df.race_description.str.split().str.get(1).str.replace(',', '.'))"
   ]
  },
  {
   "cell_type": "code",
   "execution_count": 47,
   "metadata": {},
   "outputs": [
    {
     "data": {
      "text/plain": [
       "array(['CT', 'FT'], dtype=object)"
      ]
     },
     "execution_count": 47,
     "metadata": {},
     "output_type": "execute_result"
    }
   ],
   "source": [
    "#race style\n",
    "new_race_df['style'] = race_df.race_description.str.split().str.get(3)\n",
    "new_race_df['style'].unique()"
   ]
  },
  {
   "cell_type": "code",
   "execution_count": 48,
   "metadata": {},
   "outputs": [],
   "source": [
    "#racer nationality\n",
    "new_race_df['racer_nationality'] = new_race_df['racer_nationality'].str.upper()"
   ]
  },
  {
   "cell_type": "code",
   "execution_count": 49,
   "metadata": {},
   "outputs": [
    {
     "name": "stderr",
     "output_type": "stream",
     "text": [
      "/anaconda3/lib/python3.6/site-packages/ipykernel_launcher.py:2: FutureWarning: currently extract(expand=None) means expand=False (return Index/Series/DataFrame) but in a future version of pandas this will be changed to expand=True (return DataFrame)\n",
      "  \n"
     ]
    }
   ],
   "source": [
    "#racer time \n",
    "new_race_df['racer_time'] = pd.to_timedelta(new_race_df.racer_time.str.extract('(\\d+[:|.]\\d{2}[:|.]\\d{2})').str.replace(\".\", \":\"))"
   ]
  },
  {
   "cell_type": "code",
   "execution_count": 50,
   "metadata": {},
   "outputs": [],
   "source": [
    "new_race_df['racer_pace'] = new_race_df['distance'] / (new_race_df['racer_time'] / dt.timedelta(hours=1))"
   ]
  },
  {
   "cell_type": "code",
   "execution_count": 51,
   "metadata": {},
   "outputs": [],
   "source": [
    "### after evaluating racer_pace, I came to the realization that there are some \"DNF\" finish times\n",
    "### therefore, I will split the df into two: race_finishers and race_dnf using null/notnull arguments\n",
    "\n",
    "race_finishers = new_race_df[pd.notnull(new_race_df.racer_pace)].copy()\n",
    "#note, I should also filter out the American Birkie main from last year (bike pace)\n",
    "\n",
    "race_dnf = new_race_df[pd.isnull(new_race_df.racer_pace)].copy()"
   ]
  },
  {
   "cell_type": "code",
   "execution_count": 52,
   "metadata": {},
   "outputs": [
    {
     "data": {
      "text/html": [
       "<div>\n",
       "<style scoped>\n",
       "    .dataframe tbody tr th:only-of-type {\n",
       "        vertical-align: middle;\n",
       "    }\n",
       "\n",
       "    .dataframe tbody tr th {\n",
       "        vertical-align: top;\n",
       "    }\n",
       "\n",
       "    .dataframe thead th {\n",
       "        text-align: right;\n",
       "    }\n",
       "</style>\n",
       "<table border=\"1\" class=\"dataframe\">\n",
       "  <thead>\n",
       "    <tr style=\"text-align: right;\">\n",
       "      <th></th>\n",
       "      <th>race_description</th>\n",
       "      <th>race_name</th>\n",
       "      <th>racer_nationality</th>\n",
       "      <th>racer_time</th>\n",
       "      <th>date</th>\n",
       "      <th>year</th>\n",
       "      <th>month</th>\n",
       "      <th>week</th>\n",
       "      <th>host_country</th>\n",
       "      <th>tourist</th>\n",
       "      <th>distance</th>\n",
       "      <th>style</th>\n",
       "      <th>racer_pace</th>\n",
       "    </tr>\n",
       "  </thead>\n",
       "  <tbody>\n",
       "    <tr>\n",
       "      <th>0</th>\n",
       "      <td>12.08.2017 48 km CT</td>\n",
       "      <td>Ushuaia Loppet Main</td>\n",
       "      <td>ARG</td>\n",
       "      <td>02:16:34</td>\n",
       "      <td>2017-12-08</td>\n",
       "      <td>2017</td>\n",
       "      <td>12</td>\n",
       "      <td>49</td>\n",
       "      <td>ARG</td>\n",
       "      <td>0</td>\n",
       "      <td>48.0</td>\n",
       "      <td>CT</td>\n",
       "      <td>21.088601</td>\n",
       "    </tr>\n",
       "    <tr>\n",
       "      <th>1</th>\n",
       "      <td>12.08.2017 48 km CT</td>\n",
       "      <td>Ushuaia Loppet Main</td>\n",
       "      <td>ARG</td>\n",
       "      <td>02:35:10</td>\n",
       "      <td>2017-12-08</td>\n",
       "      <td>2017</td>\n",
       "      <td>12</td>\n",
       "      <td>49</td>\n",
       "      <td>ARG</td>\n",
       "      <td>0</td>\n",
       "      <td>48.0</td>\n",
       "      <td>CT</td>\n",
       "      <td>18.560687</td>\n",
       "    </tr>\n",
       "  </tbody>\n",
       "</table>\n",
       "</div>"
      ],
      "text/plain": [
       "      race_description            race_name racer_nationality racer_time  \\\n",
       "0  12.08.2017 48 km CT  Ushuaia Loppet Main               ARG   02:16:34   \n",
       "1  12.08.2017 48 km CT  Ushuaia Loppet Main               ARG   02:35:10   \n",
       "\n",
       "        date  year  month  week host_country  tourist  distance style  \\\n",
       "0 2017-12-08  2017     12    49          ARG        0      48.0    CT   \n",
       "1 2017-12-08  2017     12    49          ARG        0      48.0    CT   \n",
       "\n",
       "   racer_pace  \n",
       "0   21.088601  \n",
       "1   18.560687  "
      ]
     },
     "execution_count": 52,
     "metadata": {},
     "output_type": "execute_result"
    }
   ],
   "source": [
    "race_finishers.head(2)"
   ]
  },
  {
   "cell_type": "code",
   "execution_count": 53,
   "metadata": {},
   "outputs": [
    {
     "data": {
      "text/plain": [
       "host_country  year\n",
       "ARG           2014       92\n",
       "              2015      201\n",
       "              2016       55\n",
       "              2017      168\n",
       "AUS           2012      639\n",
       "              2013      498\n",
       "              2014      576\n",
       "              2015      575\n",
       "              2016      586\n",
       "              2017      563\n",
       "AUT           2013     1244\n",
       "              2014     1688\n",
       "              2015      988\n",
       "              2016     1032\n",
       "              2017      843\n",
       "              2018     1039\n",
       "CAN           2013     1019\n",
       "              2014     1231\n",
       "              2015     1031\n",
       "              2016     1087\n",
       "              2017     1192\n",
       "              2018     1272\n",
       "CHN           2015      323\n",
       "              2016      295\n",
       "              2017      415\n",
       "              2018      470\n",
       "CZE           2013     5319\n",
       "              2015     5226\n",
       "              2016     3400\n",
       "              2017     5167\n",
       "                      ...  \n",
       "NZL           2017      148\n",
       "POL           2013     3575\n",
       "              2014     1488\n",
       "              2015     3072\n",
       "              2016     3021\n",
       "              2017     3078\n",
       "              2018     3269\n",
       "RUS           2013     1915\n",
       "              2015     1642\n",
       "              2016     1843\n",
       "              2017     1982\n",
       "              2018     2046\n",
       "SUI           2013    11252\n",
       "              2014     2713\n",
       "              2015    12770\n",
       "              2016    12620\n",
       "              2017    13577\n",
       "              2018    15002\n",
       "SWE           2013    40791\n",
       "              2014    44575\n",
       "              2015    42791\n",
       "              2016    45226\n",
       "              2017    43805\n",
       "              2018    41352\n",
       "USA           2013     8108\n",
       "              2014     7867\n",
       "              2015     8012\n",
       "              2016     3132\n",
       "              2017      517\n",
       "              2018     7018\n",
       "Name: style, Length: 106, dtype: int64"
      ]
     },
     "execution_count": 53,
     "metadata": {},
     "output_type": "execute_result"
    }
   ],
   "source": [
    "race_finishers.groupby(['host_country', \"year\"])['style'].count()"
   ]
  },
  {
   "cell_type": "code",
   "execution_count": null,
   "metadata": {},
   "outputs": [],
   "source": []
  },
  {
   "cell_type": "code",
   "execution_count": null,
   "metadata": {},
   "outputs": [],
   "source": []
  },
  {
   "cell_type": "code",
   "execution_count": null,
   "metadata": {},
   "outputs": [],
   "source": []
  },
  {
   "cell_type": "code",
   "execution_count": 54,
   "metadata": {},
   "outputs": [],
   "source": [
    "### this is some Python EDA\n",
    "### develop ideas for R / R shiny implementation\n",
    "\n",
    "%matplotlib inline\n",
    "from matplotlib import pyplot as plt\n",
    "plt.style.use('ggplot')"
   ]
  },
  {
   "cell_type": "code",
   "execution_count": 56,
   "metadata": {},
   "outputs": [
    {
     "data": {
      "text/plain": [
       "<matplotlib.axes._subplots.AxesSubplot at 0x11d0cb198>"
      ]
     },
     "execution_count": 56,
     "metadata": {},
     "output_type": "execute_result"
    },
    {
     "data": {
      "image/png": "[encoded data removed]",
      "text/plain": [
       "<Figure size 432x288 with 1 Axes>"
      ]
     },
     "metadata": {},
     "output_type": "display_data"
    }
   ],
   "source": [
    "race_finishers.groupby('host_country')['racer_pace'].median().sort_values().plot(kind = 'barh', color='b')\n",
    "plt.xlabel('race pace (km/h)')\n",
    "plt.ylabel('Host Country')\n",
    "plt.title('Median race pace by host country', fontsize=20)\n",
    "# consider a split for long/short races? some division by distance"
   ]
  },
  {
   "cell_type": "code",
   "execution_count": 57,
   "metadata": {},
   "outputs": [
    {
     "data": {
      "text/plain": [
       "Text(0.5,1,'Race pace distribution')"
      ]
     },
     "execution_count": 57,
     "metadata": {},
     "output_type": "execute_result"
    },
    {
     "data": {
      "image/png": "[encoded data removed]",
      "text/plain": [
       "<Figure size 432x288 with 1 Axes>"
      ]
     },
     "metadata": {},
     "output_type": "display_data"
    }
   ],
   "source": [
    "#dist of racer_pace \n",
    "plt.hist(race_finishers.racer_pace, bins = 30)\n",
    "plt.xlabel('race pace (km/h)')\n",
    "plt.ylabel('count')\n",
    "plt.title('Race pace distribution', fontsize=20)"
   ]
  },
  {
   "cell_type": "code",
   "execution_count": 65,
   "metadata": {},
   "outputs": [
    {
     "data": {
      "text/plain": [
       "(array([ 3.,  4., 27., 29., 21.,  0., 10., 17., 21., 16.,  6.,  1.,  2.,\n",
       "         0.,  1.,  0.,  0., 12.,  0.,  2.]),\n",
       " array([ 10. ,  14.5,  19. ,  23.5,  28. ,  32.5,  37. ,  41.5,  46. ,\n",
       "         50.5,  55. ,  59.5,  64. ,  68.5,  73. ,  77.5,  82. ,  86.5,\n",
       "         91. ,  95.5, 100. ]),\n",
       " <a list of 20 Patch objects>)"
      ]
     },
     "execution_count": 65,
     "metadata": {},
     "output_type": "execute_result"
    },
    {
     "data": {
      "image/png": "[encoded data removed]",
      "text/plain": [
       "<Figure size 432x288 with 1 Axes>"
      ]
     },
     "metadata": {},
     "output_type": "display_data"
    }
   ],
   "source": [
    "plt.hist(race_finishers.groupby('race_name')['distance'].mean(), bins = 20)\n",
    "#this is a rough pass on the distance metric but looks like I need to apply normalization (box-cox?)"
   ]
  },
  {
   "cell_type": "code",
   "execution_count": 66,
   "metadata": {},
   "outputs": [
    {
     "data": {
      "text/plain": [
       "(array([270.,  16.,   6.,   9.,   4.,   3.,   0.,   0.,   1.,   5.]),\n",
       " array([1.00000e+01, 2.80280e+03, 5.59560e+03, 8.38840e+03, 1.11812e+04,\n",
       "        1.39740e+04, 1.67668e+04, 1.95596e+04, 2.23524e+04, 2.51452e+04,\n",
       "        2.79380e+04]),\n",
       " <a list of 10 Patch objects>)"
      ]
     },
     "execution_count": 66,
     "metadata": {},
     "output_type": "execute_result"
    },
    {
     "data": {
      "image/png": "[encoded data removed]",
      "text/plain": [
       "<Figure size 432x288 with 1 Axes>"
      ]
     },
     "metadata": {},
     "output_type": "display_data"
    }
   ],
   "source": [
    "plt.hist(race_finishers.groupby(['host_country', 'year', 'distance', 'style'])['month'].count())\n",
    "#highly skewed ... box-cox transformation required"
   ]
  }
 ],
 "metadata": {
  "kernelspec": {
   "display_name": "Python 3",
   "language": "python",
   "name": "python3"
  },
  "language_info": {
   "codemirror_mode": {
    "name": "ipython",
    "version": 3
   },
   "file_extension": ".py",
   "mimetype": "text/x-python",
   "name": "python",
   "nbconvert_exporter": "python",
   "pygments_lexer": "ipython3",
   "version": "3.6.4"
  }
 },
 "nbformat": 4,
 "nbformat_minor": 2
}
