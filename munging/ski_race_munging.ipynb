{
 "cells": [
  {
   "cell_type": "code",
   "execution_count": 3,
   "metadata": {},
   "outputs": [
    {
     "name": "stdout",
     "output_type": "stream",
     "text": [
      "614292\n"
     ]
    },
    {
     "data": {
      "text/html": [
       "<div>\n",
       "<style scoped>\n",
       "    .dataframe tbody tr th:only-of-type {\n",
       "        vertical-align: middle;\n",
       "    }\n",
       "\n",
       "    .dataframe tbody tr th {\n",
       "        vertical-align: top;\n",
       "    }\n",
       "\n",
       "    .dataframe thead th {\n",
       "        text-align: right;\n",
       "    }\n",
       "</style>\n",
       "<table border=\"1\" class=\"dataframe\">\n",
       "  <thead>\n",
       "    <tr style=\"text-align: right;\">\n",
       "      <th></th>\n",
       "      <th>race_description</th>\n",
       "      <th>race_name</th>\n",
       "      <th>racer_nationality</th>\n",
       "      <th>racer_time</th>\n",
       "    </tr>\n",
       "  </thead>\n",
       "  <tbody>\n",
       "    <tr>\n",
       "      <th>0</th>\n",
       "      <td>12.08.2017 48 km CT</td>\n",
       "      <td>Ushuaia Loppet Main</td>\n",
       "      <td>ARG</td>\n",
       "      <td>02:16:34</td>\n",
       "    </tr>\n",
       "    <tr>\n",
       "      <th>1</th>\n",
       "      <td>12.08.2017 48 km CT</td>\n",
       "      <td>Ushuaia Loppet Main</td>\n",
       "      <td>ARG</td>\n",
       "      <td>02:35:10</td>\n",
       "    </tr>\n",
       "    <tr>\n",
       "      <th>2</th>\n",
       "      <td>12.08.2017 48 km CT</td>\n",
       "      <td>Ushuaia Loppet Main</td>\n",
       "      <td>POL</td>\n",
       "      <td>02:48:40</td>\n",
       "    </tr>\n",
       "    <tr>\n",
       "      <th>3</th>\n",
       "      <td>12.08.2017 48 km CT</td>\n",
       "      <td>Ushuaia Loppet Main</td>\n",
       "      <td>ARG</td>\n",
       "      <td>02:49:54</td>\n",
       "    </tr>\n",
       "    <tr>\n",
       "      <th>4</th>\n",
       "      <td>12.08.2017 48 km CT</td>\n",
       "      <td>Ushuaia Loppet Main</td>\n",
       "      <td>ARG</td>\n",
       "      <td>02:51:14</td>\n",
       "    </tr>\n",
       "  </tbody>\n",
       "</table>\n",
       "</div>"
      ],
      "text/plain": [
       "      race_description            race_name racer_nationality racer_time\n",
       "0  12.08.2017 48 km CT  Ushuaia Loppet Main               ARG   02:16:34\n",
       "1  12.08.2017 48 km CT  Ushuaia Loppet Main               ARG   02:35:10\n",
       "2  12.08.2017 48 km CT  Ushuaia Loppet Main               POL   02:48:40\n",
       "3  12.08.2017 48 km CT  Ushuaia Loppet Main               ARG   02:49:54\n",
       "4  12.08.2017 48 km CT  Ushuaia Loppet Main               ARG   02:51:14"
      ]
     },
     "execution_count": 3,
     "metadata": {},
     "output_type": "execute_result"
    }
   ],
   "source": [
    "import pandas as pd\n",
    "import datetime as dt\n",
    "import re\n",
    "\n",
    "race_df = pd.read_csv(\"../scraping/fis_scrape/worldloppet_races.csv\")\n",
    "\n",
    "#how many racers\n",
    "print(len(race_df))\n",
    "\n",
    "#define index for get function\n",
    "#print(race_df.race_description.str.split()[1])\n",
    "\n",
    "new_race_df = race_df.copy()\n",
    "new_race_df.head(5)\n",
    "\n",
    "#break down formatting one at a time to troubleshoot any new errors"
   ]
  },
  {
   "cell_type": "code",
   "execution_count": 4,
   "metadata": {},
   "outputs": [],
   "source": [
    "#race date\n",
    "new_race_df['date'] = pd.to_datetime(race_df.race_description.str.split().str.get(0).str.replace(\".\", \"-\"))"
   ]
  },
  {
   "cell_type": "code",
   "execution_count": 3,
   "metadata": {},
   "outputs": [],
   "source": [
    "#race distance\n",
    "new_race_df['distance'] = pd.to_numeric(race_df.race_description.str.split().str.get(1).str.replace(',', '.'))"
   ]
  },
  {
   "cell_type": "code",
   "execution_count": 4,
   "metadata": {},
   "outputs": [],
   "source": [
    "#race style\n",
    "new_race_df['style'] = race_df.race_description.str.split().str.get(3)"
   ]
  },
  {
   "cell_type": "code",
   "execution_count": 5,
   "metadata": {},
   "outputs": [],
   "source": [
    "#racer nationality\n",
    "new_race_df['racer_nationality'] = new_race_df['racer_nationality'].str.upper()"
   ]
  },
  {
   "cell_type": "code",
   "execution_count": 6,
   "metadata": {},
   "outputs": [
    {
     "name": "stderr",
     "output_type": "stream",
     "text": [
      "/anaconda3/lib/python3.6/site-packages/ipykernel_launcher.py:2: FutureWarning: currently extract(expand=None) means expand=False (return Index/Series/DataFrame) but in a future version of pandas this will be changed to expand=True (return DataFrame)\n",
      "  \n"
     ]
    }
   ],
   "source": [
    "#racer time \n",
    "new_race_df['racer_time'] = pd.to_timedelta(new_race_df.racer_time.str.extract('(\\d+[:|.]\\d{2}[:|.]\\d{2})').str.replace(\".\", \":\"))"
   ]
  },
  {
   "cell_type": "code",
   "execution_count": 7,
   "metadata": {},
   "outputs": [],
   "source": [
    "new_race_df['racer_pace'] = new_race_df['distance'] / (new_race_df['racer_time'] / dt.timedelta(hours=1))"
   ]
  },
  {
   "cell_type": "code",
   "execution_count": 22,
   "metadata": {},
   "outputs": [],
   "source": [
    "### after evaluating racer_pace, I came to the realization that there are some \"DNF\" finish times\n",
    "### therefore, I will split the df into two: race_finishers and race_dnf using null/notnull arguments\n",
    "\n",
    "race_finishers = new_race_df[pd.notnull(new_race_df.racer_pace)].copy()\n",
    "#note, I should also filter out the American Birkie main from last year (bike pace)\n",
    "\n",
    "race_dnf = new_race_df[pd.isnull(new_race_df.racer_pace)].copy()"
   ]
  },
  {
   "cell_type": "code",
   "execution_count": 9,
   "metadata": {},
   "outputs": [],
   "source": [
    "### this is some Python EDA\n",
    "### develop ideas for R / R shiny implementation\n",
    "\n",
    "%matplotlib inline\n",
    "from matplotlib import pyplot as plt\n",
    "plt.style.use('ggplot')"
   ]
  },
  {
   "cell_type": "code",
   "execution_count": 2,
   "metadata": {},
   "outputs": [
    {
     "ename": "NameError",
     "evalue": "name 'race_finishers' is not defined",
     "output_type": "error",
     "traceback": [
      "\u001b[0;31m---------------------------------------------------------------------------\u001b[0m",
      "\u001b[0;31mNameError\u001b[0m                                 Traceback (most recent call last)",
      "\u001b[0;32m<ipython-input-2-7bc8a867a1a0>\u001b[0m in \u001b[0;36m<module>\u001b[0;34m()\u001b[0m\n\u001b[0;32m----> 1\u001b[0;31m \u001b[0mrace_finishers\u001b[0m\u001b[0;34m.\u001b[0m\u001b[0mgroupby\u001b[0m\u001b[0;34m(\u001b[0m\u001b[0;34m'race_name'\u001b[0m\u001b[0;34m)\u001b[0m\u001b[0;34m[\u001b[0m\u001b[0;34m'racer_pace'\u001b[0m\u001b[0;34m]\u001b[0m\u001b[0;34m[\u001b[0m\u001b[0;36m1\u001b[0m\u001b[0;34m:\u001b[0m\u001b[0;36m11\u001b[0m\u001b[0;34m]\u001b[0m\u001b[0;34m.\u001b[0m\u001b[0mmax\u001b[0m\u001b[0;34m(\u001b[0m\u001b[0;34m)\u001b[0m\u001b[0;34m.\u001b[0m\u001b[0msort_values\u001b[0m\u001b[0;34m(\u001b[0m\u001b[0;34m)\u001b[0m\u001b[0;34m.\u001b[0m\u001b[0mplot\u001b[0m\u001b[0;34m(\u001b[0m\u001b[0mkind\u001b[0m \u001b[0;34m=\u001b[0m \u001b[0;34m'barh'\u001b[0m\u001b[0;34m,\u001b[0m \u001b[0mcolor\u001b[0m\u001b[0;34m=\u001b[0m\u001b[0;34m'b'\u001b[0m\u001b[0;34m)\u001b[0m\u001b[0;34m\u001b[0m\u001b[0m\n\u001b[0m",
      "\u001b[0;31mNameError\u001b[0m: name 'race_finishers' is not defined"
     ]
    }
   ],
   "source": [
    "race_finishers.groupby('race_name')['racer_pace'][1:11].max().sort_values().plot(kind = 'barh', color='b')"
   ]
  },
  {
   "cell_type": "code",
   "execution_count": 27,
   "metadata": {},
   "outputs": [
    {
     "data": {
      "text/plain": [
       "Text(0.5,1,'Race pace distribution')"
      ]
     },
     "execution_count": 27,
     "metadata": {},
     "output_type": "execute_result"
    },
    {
     "data": {
      "image/png": "[encoded data removed]",
      "text/plain": [
       "<Figure size 432x288 with 1 Axes>"
      ]
     },
     "metadata": {},
     "output_type": "display_data"
    }
   ],
   "source": [
    "#dist of racer_pace \n",
    "plt.hist(race_finishers.racer_pace, bins = 30)\n",
    "plt.xlabel('race pace (km/h)')\n",
    "plt.ylabel('count')\n",
    "plt.title('Race pace distribution', fontsize=20)"
   ]
  },
  {
   "cell_type": "code",
   "execution_count": 63,
   "metadata": {},
   "outputs": [
    {
     "data": {
      "text/plain": [
       "Text(0.5,1,'Participants by nationality')"
      ]
     },
     "execution_count": 63,
     "metadata": {},
     "output_type": "execute_result"
    },
    {
     "data": {
      "image/png": "[encoded data removed]",
      "text/plain": [
       "<Figure size 432x288 with 1 Axes>"
      ]
     },
     "metadata": {},
     "output_type": "display_data"
    }
   ],
   "source": [
    "#count of racers by nationality in AUS race\n",
    "\n",
    "#country_df.groupby('country')['imdb_score'].median().sort_values(ascending=False).plot.bar(color='b')\n",
    "\n",
    "new_race_df.groupby('racer_nationality')['style'].count().sort_values().plot(kind = 'barh', color='b')\n",
    "plt.xlabel('count')\n",
    "plt.ylabel('Racer Nationality')\n",
    "plt.title('Participants by nationality', fontsize=20)"
   ]
  }
 ],
 "metadata": {
  "kernelspec": {
   "display_name": "Python 3",
   "language": "python",
   "name": "python3"
  },
  "language_info": {
   "codemirror_mode": {
    "name": "ipython",
    "version": 3
   },
   "file_extension": ".py",
   "mimetype": "text/x-python",
   "name": "python",
   "nbconvert_exporter": "python",
   "pygments_lexer": "ipython3",
   "version": "3.6.4"
  }
 },
 "nbformat": 4,
 "nbformat_minor": 2
}
