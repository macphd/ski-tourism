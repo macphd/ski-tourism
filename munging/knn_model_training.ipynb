{
 "cells": [
  {
   "cell_type": "code",
   "execution_count": 68,
   "metadata": {},
   "outputs": [],
   "source": [
    "import pandas as pd\n",
    "import numpy as np\n",
    "import datetime as dt\n",
    "import re"
   ]
  },
  {
   "cell_type": "code",
   "execution_count": 69,
   "metadata": {},
   "outputs": [
    {
     "data": {
      "text/html": [
       "<div>\n",
       "<style scoped>\n",
       "    .dataframe tbody tr th:only-of-type {\n",
       "        vertical-align: middle;\n",
       "    }\n",
       "\n",
       "    .dataframe tbody tr th {\n",
       "        vertical-align: top;\n",
       "    }\n",
       "\n",
       "    .dataframe thead th {\n",
       "        text-align: right;\n",
       "    }\n",
       "</style>\n",
       "<table border=\"1\" class=\"dataframe\">\n",
       "  <thead>\n",
       "    <tr style=\"text-align: right;\">\n",
       "      <th></th>\n",
       "      <th>style</th>\n",
       "      <th>host_country</th>\n",
       "      <th>bc_dist</th>\n",
       "      <th>bc_pace</th>\n",
       "      <th>bc_nski</th>\n",
       "      <th>month</th>\n",
       "    </tr>\n",
       "  </thead>\n",
       "  <tbody>\n",
       "    <tr>\n",
       "      <th>0</th>\n",
       "      <td>CT</td>\n",
       "      <td>ARG</td>\n",
       "      <td>8.775961</td>\n",
       "      <td>2.471600</td>\n",
       "      <td>14.721642</td>\n",
       "      <td>12</td>\n",
       "    </tr>\n",
       "    <tr>\n",
       "      <th>1</th>\n",
       "      <td>CT</td>\n",
       "      <td>ARG</td>\n",
       "      <td>8.775961</td>\n",
       "      <td>2.388236</td>\n",
       "      <td>14.721642</td>\n",
       "      <td>12</td>\n",
       "    </tr>\n",
       "    <tr>\n",
       "      <th>2</th>\n",
       "      <td>CT</td>\n",
       "      <td>ARG</td>\n",
       "      <td>8.775961</td>\n",
       "      <td>2.332943</td>\n",
       "      <td>14.721642</td>\n",
       "      <td>12</td>\n",
       "    </tr>\n",
       "    <tr>\n",
       "      <th>3</th>\n",
       "      <td>CT</td>\n",
       "      <td>ARG</td>\n",
       "      <td>8.775961</td>\n",
       "      <td>2.328083</td>\n",
       "      <td>14.721642</td>\n",
       "      <td>12</td>\n",
       "    </tr>\n",
       "    <tr>\n",
       "      <th>4</th>\n",
       "      <td>CT</td>\n",
       "      <td>ARG</td>\n",
       "      <td>8.775961</td>\n",
       "      <td>2.322862</td>\n",
       "      <td>14.721642</td>\n",
       "      <td>12</td>\n",
       "    </tr>\n",
       "  </tbody>\n",
       "</table>\n",
       "</div>"
      ],
      "text/plain": [
       "  style host_country   bc_dist   bc_pace    bc_nski  month\n",
       "0    CT          ARG  8.775961  2.471600  14.721642     12\n",
       "1    CT          ARG  8.775961  2.388236  14.721642     12\n",
       "2    CT          ARG  8.775961  2.332943  14.721642     12\n",
       "3    CT          ARG  8.775961  2.328083  14.721642     12\n",
       "4    CT          ARG  8.775961  2.322862  14.721642     12"
      ]
     },
     "execution_count": 69,
     "metadata": {},
     "output_type": "execute_result"
    }
   ],
   "source": [
    "model_df =  pd.read_csv(\"model_ski_df.csv\", usecols = range(1,7))\n",
    "model_df.head()"
   ]
  },
  {
   "cell_type": "code",
   "execution_count": 70,
   "metadata": {},
   "outputs": [
    {
     "name": "stdout",
     "output_type": "stream",
     "text": [
      "number of classic racers: 469296\n",
      "sqrt(n) for K-neighbors, classic: 685.05182285722\n",
      "number of skate racers: 143832\n",
      "sqrt(n) for K-neighbors, skate: 379.2518951831355\n",
      "number of classic racers, subset: 143832\n"
     ]
    }
   ],
   "source": [
    "# filter by ski-style as these are different races\n",
    "import math\n",
    "classic = model_df[model_df['style']=='CT'].copy()\n",
    "print(\"number of classic racers: \" + str(len(classic)))\n",
    "print(\"sqrt(n) for K-neighbors, classic: \" + str(math.sqrt(len(classic))))\n",
    "skate = model_df[model_df['style']=='FT'].copy()\n",
    "print(\"number of skate racers: \" + str(len(skate)))\n",
    "print(\"sqrt(n) for K-neighbors, skate: \" + str(math.sqrt(len(skate))))\n",
    "\n",
    "#in the interest of quicker computation time, let's subset the \n",
    "classic_sub = classic.sample(n=143832, random_state=9)\n",
    "print(\"number of classic racers, subset: \" + str(len(classic_sub)))\n"
   ]
  },
  {
   "cell_type": "markdown",
   "metadata": {},
   "source": [
    "## Classic skiing KNN model training"
   ]
  },
  {
   "cell_type": "code",
   "execution_count": 71,
   "metadata": {},
   "outputs": [],
   "source": [
    "import numpy as np\n",
    "from sklearn.model_selection import train_test_split\n",
    "\n",
    "# create attribute matrix (bc_dist, bc_pace, bc_nski) and target (host_country) \n",
    "ski_data = np.array(classic_sub.iloc[:,[2,3,4]]) \n",
    "host = np.array(classic_sub.host_country) \n",
    "\n",
    "# setup train and test sets\n",
    "ski_data_train, ski_data_test, host_train, host_test = train_test_split(ski_data, host, test_size=0.20, random_state=9)"
   ]
  },
  {
   "cell_type": "code",
   "execution_count": 72,
   "metadata": {},
   "outputs": [],
   "source": [
    "#now, test k iteratively starting with classic\n",
    "#note, sqrt(n) printouts above\n",
    "\n",
    "from sklearn.model_selection import cross_val_score\n",
    "\n",
    "k_neighbors = [n for n in range(1,1000, 100) if n % 2 != 0] #start in 100s & avoid ties using odd neighbors\n",
    "\n",
    "ct_cv_scores = []"
   ]
  },
  {
   "cell_type": "code",
   "execution_count": 73,
   "metadata": {},
   "outputs": [],
   "source": [
    "# computation step commented out below, uncomment to run\n",
    "\n",
    "from sklearn.neighbors import KNeighborsClassifier\n",
    "\n",
    "for i in k_neighbors:\n",
    "    knn = KNeighborsClassifier(n_neighbors=i)\n",
    "    scores = cross_val_score(knn, ski_data_train, host_train, cv=10, scoring='accuracy', n_jobs = -1)\n",
    "    ct_cv_scores.append(scores.mean())"
   ]
  },
  {
   "cell_type": "code",
   "execution_count": 74,
   "metadata": {},
   "outputs": [],
   "source": [
    "%matplotlib inline\n",
    "from matplotlib import pyplot as plt\n",
    "plt.style.use('ggplot')"
   ]
  },
  {
   "cell_type": "code",
   "execution_count": 75,
   "metadata": {},
   "outputs": [
    {
     "name": "stdout",
     "output_type": "stream",
     "text": [
      "The optimal number of neighbors is 1\n"
     ]
    },
    {
     "data": {
      "image/png": "[encoded data removed]",
      "text/plain": [
       "<Figure size 432x288 with 1 Axes>"
      ]
     },
     "metadata": {},
     "output_type": "display_data"
    }
   ],
   "source": [
    "# changing to misclassification error\n",
    "MSE = [1 - x for x in ct_cv_scores]\n",
    "\n",
    "# determining best k\n",
    "optimal_k = k_neighbors[MSE.index(min(MSE))]\n",
    "print (\"The optimal number of neighbors is %d\" % optimal_k)\n",
    "\n",
    "# plot misclassification error vs k\n",
    "plt.plot(k_neighbors, MSE)\n",
    "plt.xlabel('Number of Neighbors K')\n",
    "plt.ylabel('Misclassification Error')\n",
    "plt.show()"
   ]
  },
  {
   "cell_type": "code",
   "execution_count": 76,
   "metadata": {},
   "outputs": [],
   "source": [
    "# repeat 10-fold CV with finer detail \n",
    "k_neighbors_2 = [n for n in range(1,100,2)] \n",
    "ct_cv_scores_2 = []"
   ]
  },
  {
   "cell_type": "code",
   "execution_count": 77,
   "metadata": {},
   "outputs": [],
   "source": [
    "#computation step, uncomment to run\n",
    "\n",
    "# for i in k_neighbors_2:\n",
    "#     knn = KNeighborsClassifier(n_neighbors=i)\n",
    "#     scores = cross_val_score(knn, ski_data_train, host_train, cv=10, scoring='accuracy', n_jobs = -1)\n",
    "#     ct_cv_scores_2.append(scores.mean())"
   ]
  },
  {
   "cell_type": "code",
   "execution_count": 78,
   "metadata": {},
   "outputs": [
    {
     "name": "stdout",
     "output_type": "stream",
     "text": [
      "The optimal number of neighbors is 7\n"
     ]
    },
    {
     "data": {
      "image/png": "[encoded data removed]",
      "text/plain": [
       "<Figure size 432x288 with 1 Axes>"
      ]
     },
     "metadata": {},
     "output_type": "display_data"
    }
   ],
   "source": [
    "# changing to misclassification error\n",
    "MSE_2 = [1 - x for x in ct_cv_scores_2]\n",
    "\n",
    "# determining best k\n",
    "optimal_k_2 = k_neighbors_2[MSE_2.index(min(MSE_2))]\n",
    "print (\"The optimal number of neighbors is %d\" % optimal_k_2)\n",
    "\n",
    "# plot misclassification error vs k\n",
    "plt.plot(k_neighbors_2, MSE_2)\n",
    "plt.xlabel('Number of Neighbors K')\n",
    "plt.ylabel('Misclassification Error')\n",
    "plt.show()"
   ]
  },
  {
   "cell_type": "markdown",
   "metadata": {},
   "source": [
    "## Freestyle (skate) skiing model training"
   ]
  },
  {
   "cell_type": "code",
   "execution_count": 79,
   "metadata": {},
   "outputs": [],
   "source": [
    "# create attribute matrix (bc_dist, bc_pace) and target (host_country) \n",
    "skate_data = np.array(skate.iloc[:,[2,3]]) \n",
    "skate_host = np.array(skate.host_country) \n",
    "\n",
    "# setup train and test sets\n",
    "skate_data_train, skate_data_test, skate_host_train, skate_host_test = train_test_split(skate_data, skate_host, test_size=0.20, random_state=9)"
   ]
  },
  {
   "cell_type": "code",
   "execution_count": 80,
   "metadata": {},
   "outputs": [],
   "source": [
    "k_neighbors_3 = [n for n in range(1,1000, 100) if n % 2 != 0] #start in 100s & avoid ties using odd neighbors\n",
    "cv_scores_3 = []"
   ]
  },
  {
   "cell_type": "code",
   "execution_count": 81,
   "metadata": {},
   "outputs": [],
   "source": [
    "# computation step commented out below, uncomment to run\n",
    "\n",
    "# for i in k_neighbors_3:\n",
    "#     knn = KNeighborsClassifier(n_neighbors=i)\n",
    "#     scores = cross_val_score(knn, skate_data_train, skate_host_train, cv=10, scoring='accuracy', n_jobs = -1)\n",
    "#     cv_scores_3.append(scores.mean())"
   ]
  },
  {
   "cell_type": "code",
   "execution_count": 82,
   "metadata": {},
   "outputs": [
    {
     "name": "stdout",
     "output_type": "stream",
     "text": [
      "The optimal number of neighbors is 101\n"
     ]
    },
    {
     "data": {
      "image/png": "[encoded data removed]",
      "text/plain": [
       "<Figure size 432x288 with 1 Axes>"
      ]
     },
     "metadata": {},
     "output_type": "display_data"
    }
   ],
   "source": [
    "# changing to misclassification error\n",
    "MSE_3 = [1 - x for x in ct_cv_scores_3]\n",
    "\n",
    "# determining best k\n",
    "optimal_k = k_neighbors[MSE_3.index(min(MSE_3))]\n",
    "print (\"The optimal number of neighbors is %d\" % optimal_k)\n",
    "\n",
    "# plot misclassification error vs k\n",
    "plt.plot(k_neighbors_3, MSE_3)\n",
    "plt.xlabel('Number of Neighbors K')\n",
    "plt.ylabel('Misclassification Error')\n",
    "plt.show()"
   ]
  },
  {
   "cell_type": "code",
   "execution_count": 83,
   "metadata": {},
   "outputs": [],
   "source": [
    "# repeat 10-fold CV with finer detail \n",
    "k_neighbors_4 = [n for n in range(1,200, 4)] \n",
    "cv_scores_4 = []"
   ]
  },
  {
   "cell_type": "code",
   "execution_count": 84,
   "metadata": {},
   "outputs": [],
   "source": [
    "# computation step, uncomment to run\n",
    "\n",
    "# for i in k_neighbors_4:\n",
    "#     knn = KNeighborsClassifier(n_neighbors=i)\n",
    "#     scores = cross_val_score(knn, skate_data_train, skate_host_train, cv=10, scoring='accuracy', n_jobs = -1)\n",
    "#     cv_scores_4.append(scores.mean())"
   ]
  },
  {
   "cell_type": "code",
   "execution_count": 85,
   "metadata": {},
   "outputs": [
    {
     "name": "stdout",
     "output_type": "stream",
     "text": [
      "The optimal number of neighbors is 73\n"
     ]
    },
    {
     "data": {
      "image/png": "[encoded data removed]",
      "text/plain": [
       "<Figure size 432x288 with 1 Axes>"
      ]
     },
     "metadata": {},
     "output_type": "display_data"
    }
   ],
   "source": [
    "# changing to misclassification error\n",
    "MSE_4 = [1 - x for x in cv_scores_4]\n",
    "\n",
    "# determining best k\n",
    "optimal_k = k_neighbors_4[MSE_4.index(min(MSE_4))]\n",
    "print (\"The optimal number of neighbors is %d\" % optimal_k)\n",
    "\n",
    "# plot misclassification error vs k\n",
    "plt.plot(k_neighbors_4, MSE_4)\n",
    "plt.xlabel('Number of Neighbors K')\n",
    "plt.ylabel('Misclassification Error')\n",
    "plt.show()"
   ]
  },
  {
   "cell_type": "markdown",
   "metadata": {},
   "source": [
    "# Closing thoughts & directions for shiny app"
   ]
  },
  {
   "cell_type": "markdown",
   "metadata": {},
   "source": [
    "#### Takeaways:\n",
    "- One surprising takeway from these simulations is that the K with the lowest misclassification error is far below sqrt(n). \n",
    "- The lowest misclassification error for classic uses K=7 neighbors while skate uses K=73. \n",
    "- I'll meet in the 'middle' at K=39 in the initial app deployment - a value that works well for both cases.\n",
    "\n",
    "Question:\n",
    "- What is the implication of 'better classification' (91% vs 79% accuracy) of the classic vs skate datasets? \n",
    "    - My initial conjecture is that these pacetimes/distances better stratified than the skate dataset.\n",
    "    \n",
    "Stretch goals for the app include:\n",
    "- Fancy output (scrape images of flags/logos & social media links)\n",
    "- Month filtering (beta!)\n",
    "\n",
    "### Recall: \n",
    "- dist_lambda = 0.37763\n",
    "- pace_lambda = -0.142847\n",
    "- nski_lambda = 0.528469"
   ]
  },
  {
   "cell_type": "markdown",
   "metadata": {},
   "source": [
    "# Write final df for R app"
   ]
  },
  {
   "cell_type": "code",
   "execution_count": 86,
   "metadata": {},
   "outputs": [],
   "source": [
    "final_model_df = pd.concat([classic_sub, skate])\n",
    "final_model_df.head(10)\n",
    "#final_model_df.to_csv(\"ski_knn_model.csv\")"
   ]
  }
 ],
 "metadata": {
  "kernelspec": {
   "display_name": "Python 3",
   "language": "python",
   "name": "python3"
  },
  "language_info": {
   "codemirror_mode": {
    "name": "ipython",
    "version": 3
   },
   "file_extension": ".py",
   "mimetype": "text/x-python",
   "name": "python",
   "nbconvert_exporter": "python",
   "pygments_lexer": "ipython3",
   "version": "3.6.4"
  }
 },
 "nbformat": 4,
 "nbformat_minor": 2
}
